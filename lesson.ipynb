{
 "cells": [
  {
   "cell_type": "markdown",
   "id": "98610f27",
   "metadata": {},
   "source": [
    "Linter - это интсрумент анализа исходного кода для нахождения ошибок и несоответствия стиля кодирования.\n",
    "Flake8 - это Linter.\n",
    "Black Formatter - инструмент позволяющий реализовать стилистику кода по Linter.\n",
    "Hot key - Shift+Alt+F когда код слишком длиннный или некрасивый по оформлению"
   ]
  },
  {
   "cell_type": "markdown",
   "id": "163d5a18",
   "metadata": {},
   "source": [
    "Создание виртуального окружения(создается один раз в той директории которой мы работаем) - python -m venv venv\n",
    "Активация виртуального окружения: venv\\Scripts\\Activate\n",
    "В jupyter нужно выбрать Select Kernel \n",
    "Если работаем в файле .py мы активируемся через терминал"
   ]
  },
  {
   "cell_type": "markdown",
   "id": "cc95e8ad",
   "metadata": {},
   "source": [
    "Fork - копирование репозитория неходимого для дальнейшего Pull Request\n",
    "Pull Request - операция позволяющая передать наши изменения из нашего репозитория в репозиторий который Forkнули. Возможен только после изменения в нашем репозитории, иначе он не вохможен "
   ]
  },
  {
   "cell_type": "code",
   "execution_count": 3,
   "id": "a4f997a5",
   "metadata": {},
   "outputs": [
    {
     "name": "stdout",
     "output_type": "stream",
     "text": [
      "8\n"
     ]
    }
   ],
   "source": [
    "def exp(num: int) -> int:\n",
    "    print(2**num)\n",
    "\n",
    "\n",
    "exp(3)"
   ]
  }
 ],
 "metadata": {
  "kernelspec": {
   "display_name": "venv",
   "language": "python",
   "name": "python3"
  },
  "language_info": {
   "codemirror_mode": {
    "name": "ipython",
    "version": 3
   },
   "file_extension": ".py",
   "mimetype": "text/x-python",
   "name": "python",
   "nbconvert_exporter": "python",
   "pygments_lexer": "ipython3",
   "version": "3.13.5"
  }
 },
 "nbformat": 4,
 "nbformat_minor": 5
}
